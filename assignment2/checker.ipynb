{
 "cells": [
  {
   "cell_type": "code",
   "execution_count": 1,
   "metadata": {
    "collapsed": true
   },
   "outputs": [],
   "source": [
    "%matplotlib inline\n",
    "\n",
    "%load_ext autoreload\n",
    "%autoreload 2"
   ]
  },
  {
   "cell_type": "code",
   "execution_count": 2,
   "metadata": {
    "collapsed": true
   },
   "outputs": [],
   "source": [
    "import numpy as np\n",
    "import tensorflow as tf"
   ]
  },
  {
   "cell_type": "code",
   "execution_count": null,
   "metadata": {
    "collapsed": true
   },
   "outputs": [],
   "source": [
    "tf.reduce_sum()"
   ]
  },
  {
   "cell_type": "code",
   "execution_count": 1,
   "metadata": {
    "collapsed": true
   },
   "outputs": [],
   "source": [
    "from q1_softmax import *"
   ]
  },
  {
   "cell_type": "code",
   "execution_count": 5,
   "metadata": {
    "collapsed": false
   },
   "outputs": [
    {
     "name": "stdout",
     "output_type": "stream",
     "text": [
      "Softmax test 1 passed!\n",
      "Softmax test 2 passed!\n",
      "Basic (non-exhaustive) softmax tests pass\n",
      "\n"
     ]
    }
   ],
   "source": [
    "test_softmax_basic()"
   ]
  },
  {
   "cell_type": "code",
   "execution_count": 6,
   "metadata": {
    "collapsed": true
   },
   "outputs": [],
   "source": [
    "from utils.general_utils import test_all_close"
   ]
  },
  {
   "cell_type": "code",
   "execution_count": null,
   "metadata": {
    "collapsed": true
   },
   "outputs": [],
   "source": [
    "test_all_close()"
   ]
  },
  {
   "cell_type": "code",
   "execution_count": 8,
   "metadata": {
    "collapsed": false
   },
   "outputs": [
    {
     "name": "stdout",
     "output_type": "stream",
     "text": [
      "Cross-entropy test 1 passed!\n",
      "Basic (non-exhaustive) cross-entropy tests pass\n"
     ]
    }
   ],
   "source": [
    "test_cross_entropy_loss_basic()"
   ]
  },
  {
   "cell_type": "code",
   "execution_count": 4,
   "metadata": {
    "collapsed": true
   },
   "outputs": [],
   "source": [
    "from q1_classifier import test_softmax_model\n"
   ]
  },
  {
   "cell_type": "code",
   "execution_count": 5,
   "metadata": {
    "collapsed": false
   },
   "outputs": [
    {
     "name": "stdout",
     "output_type": "stream",
     "text": [
      "Epoch 0: loss = 59.18 (0.388 sec)\n",
      "Epoch 1: loss = 20.32 (0.024 sec)\n",
      "Epoch 2: loss = 10.92 (0.021 sec)\n",
      "Epoch 3: loss = 7.30 (0.019 sec)\n",
      "Epoch 4: loss = 5.44 (0.018 sec)\n",
      "Epoch 5: loss = 4.32 (0.016 sec)\n",
      "Epoch 6: loss = 3.58 (0.014 sec)\n",
      "Epoch 7: loss = 3.05 (0.012 sec)\n",
      "Epoch 8: loss = 2.65 (0.011 sec)\n",
      "Epoch 9: loss = 2.35 (0.012 sec)\n",
      "Epoch 10: loss = 2.11 (0.011 sec)\n",
      "Epoch 11: loss = 1.91 (0.011 sec)\n",
      "Epoch 12: loss = 1.75 (0.011 sec)\n",
      "Epoch 13: loss = 1.61 (0.010 sec)\n",
      "Epoch 14: loss = 1.49 (0.011 sec)\n",
      "Epoch 15: loss = 1.39 (0.014 sec)\n",
      "Epoch 16: loss = 1.30 (0.015 sec)\n",
      "Epoch 17: loss = 1.22 (0.009 sec)\n",
      "Epoch 18: loss = 1.15 (0.009 sec)\n",
      "Epoch 19: loss = 1.09 (0.009 sec)\n",
      "Epoch 20: loss = 1.03 (0.009 sec)\n",
      "Epoch 21: loss = 0.98 (0.010 sec)\n",
      "Epoch 22: loss = 0.94 (0.010 sec)\n",
      "Epoch 23: loss = 0.89 (0.009 sec)\n",
      "Epoch 24: loss = 0.86 (0.009 sec)\n",
      "Epoch 25: loss = 0.82 (0.009 sec)\n",
      "Epoch 26: loss = 0.79 (0.010 sec)\n",
      "Epoch 27: loss = 0.76 (0.011 sec)\n",
      "Epoch 28: loss = 0.73 (0.010 sec)\n",
      "Epoch 29: loss = 0.71 (0.010 sec)\n",
      "Epoch 30: loss = 0.68 (0.010 sec)\n",
      "Epoch 31: loss = 0.66 (0.010 sec)\n",
      "Epoch 32: loss = 0.64 (0.010 sec)\n",
      "Epoch 33: loss = 0.62 (0.010 sec)\n",
      "Epoch 34: loss = 0.60 (0.011 sec)\n",
      "Epoch 35: loss = 0.58 (0.016 sec)\n",
      "Epoch 36: loss = 0.57 (0.012 sec)\n",
      "Epoch 37: loss = 0.55 (0.009 sec)\n",
      "Epoch 38: loss = 0.54 (0.009 sec)\n",
      "Epoch 39: loss = 0.52 (0.009 sec)\n",
      "Epoch 40: loss = 0.51 (0.009 sec)\n",
      "Epoch 41: loss = 0.50 (0.009 sec)\n",
      "Epoch 42: loss = 0.48 (0.009 sec)\n",
      "Epoch 43: loss = 0.47 (0.009 sec)\n",
      "Epoch 44: loss = 0.46 (0.009 sec)\n",
      "Epoch 45: loss = 0.45 (0.009 sec)\n",
      "Epoch 46: loss = 0.44 (0.009 sec)\n",
      "Epoch 47: loss = 0.43 (0.010 sec)\n",
      "Epoch 48: loss = 0.42 (0.010 sec)\n",
      "Epoch 49: loss = 0.41 (0.010 sec)\n",
      "Basic (non-exhaustive) classifier tests pass\n"
     ]
    }
   ],
   "source": [
    "test_softmax_model()"
   ]
  },
  {
   "cell_type": "code",
   "execution_count": 18,
   "metadata": {
    "collapsed": false
   },
   "outputs": [],
   "source": [
    "with tf.Session() as sess:\n",
    "    sess.run(tf.global_variables_initializer())\n",
    "    k = w.eval()"
   ]
  },
  {
   "cell_type": "code",
   "execution_count": 20,
   "metadata": {
    "collapsed": false
   },
   "outputs": [
    {
     "name": "stdout",
     "output_type": "stream",
     "text": [
      "20\n",
      "30\n"
     ]
    }
   ],
   "source": [
    "for i in k:\n",
    "    print i\n"
   ]
  },
  {
   "cell_type": "code",
   "execution_count": 34,
   "metadata": {
    "collapsed": false
   },
   "outputs": [
    {
     "data": {
      "text/plain": [
       "NoneType"
      ]
     },
     "execution_count": 34,
     "metadata": {},
     "output_type": "execute_result"
    }
   ],
   "source": [
    "type(None)"
   ]
  },
  {
   "cell_type": "code",
   "execution_count": 53,
   "metadata": {
    "collapsed": false
   },
   "outputs": [],
   "source": [
    "l = [i for i in range(10)]\n",
    "k = list(l)\n"
   ]
  },
  {
   "cell_type": "code",
   "execution_count": 46,
   "metadata": {
    "collapsed": false
   },
   "outputs": [
    {
     "name": "stdout",
     "output_type": "stream",
     "text": [
      "[0, 1, 2, 3, 4, 5, 6, 7, 8, 9]\n"
     ]
    }
   ],
   "source": [
    "k.pop()\n",
    "print l"
   ]
  },
  {
   "cell_type": "code",
   "execution_count": 2,
   "metadata": {
    "collapsed": false
   },
   "outputs": [],
   "source": [
    "from q2_parser_transitions import *"
   ]
  },
  {
   "cell_type": "code",
   "execution_count": 20,
   "metadata": {
    "collapsed": false
   },
   "outputs": [
    {
     "name": "stdout",
     "output_type": "stream",
     "text": [
      "SHIFT test passed!\n",
      "LEFT-ARC test passed!\n",
      "RIGHT-ARC test passed!\n"
     ]
    }
   ],
   "source": [
    "test_parse_step()"
   ]
  },
  {
   "cell_type": "code",
   "execution_count": 48,
   "metadata": {
    "collapsed": false
   },
   "outputs": [
    {
     "name": "stdout",
     "output_type": "stream",
     "text": [
      "parse test passed!\n"
     ]
    }
   ],
   "source": [
    "test_parse()"
   ]
  },
  {
   "cell_type": "code",
   "execution_count": 62,
   "metadata": {
    "collapsed": false
   },
   "outputs": [],
   "source": [
    "l = [0, 1, 2, 3, 4, 5, 6, 7, 8, 9]"
   ]
  },
  {
   "cell_type": "code",
   "execution_count": 69,
   "metadata": {
    "collapsed": false
   },
   "outputs": [
    {
     "data": {
      "text/plain": [
       "[]"
      ]
     },
     "execution_count": 69,
     "metadata": {},
     "output_type": "execute_result"
    }
   ],
   "source": [
    "l[15:]"
   ]
  },
  {
   "cell_type": "code",
   "execution_count": 3,
   "metadata": {
    "collapsed": false
   },
   "outputs": [
    {
     "name": "stdout",
     "output_type": "stream",
     "text": [
      "minibatch_parse test passed!\n"
     ]
    }
   ],
   "source": [
    "test_minibatch_parse()"
   ]
  },
  {
   "cell_type": "code",
   "execution_count": 94,
   "metadata": {
    "collapsed": true
   },
   "outputs": [],
   "source": [
    "model= DummyModel()\n",
    "p = [PartialParse(['right', 'shit', 'only'])]"
   ]
  },
  {
   "cell_type": "code",
   "execution_count": 107,
   "metadata": {
    "collapsed": false
   },
   "outputs": [
    {
     "data": {
      "text/plain": [
       "['S']"
      ]
     },
     "execution_count": 107,
     "metadata": {},
     "output_type": "execute_result"
    }
   ],
   "source": [
    "model.predict(p)"
   ]
  },
  {
   "cell_type": "code",
   "execution_count": 4,
   "metadata": {
    "collapsed": true
   },
   "outputs": [],
   "source": [
    "from q2_initialization import *"
   ]
  },
  {
   "cell_type": "code",
   "execution_count": 11,
   "metadata": {
    "collapsed": false
   },
   "outputs": [
    {
     "name": "stdout",
     "output_type": "stream",
     "text": [
      "Running basic tests...\n",
      "Basic (non-exhaustive) Xavier initialization tests pass\n"
     ]
    }
   ],
   "source": [
    "test_initialization_basic()"
   ]
  },
  {
   "cell_type": "code",
   "execution_count": 12,
   "metadata": {
    "collapsed": true
   },
   "outputs": [],
   "source": [
    "from q2_parser_model import main"
   ]
  },
  {
   "cell_type": "code",
   "execution_count": null,
   "metadata": {
    "collapsed": true
   },
   "outputs": [],
   "source": []
  }
 ],
 "metadata": {
  "kernelspec": {
   "display_name": "Python 2",
   "language": "python",
   "name": "python2"
  },
  "language_info": {
   "codemirror_mode": {
    "name": "ipython",
    "version": 2
   },
   "file_extension": ".py",
   "mimetype": "text/x-python",
   "name": "python",
   "nbconvert_exporter": "python",
   "pygments_lexer": "ipython2",
   "version": "2.7.12"
  }
 },
 "nbformat": 4,
 "nbformat_minor": 0
}
